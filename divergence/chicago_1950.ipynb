{
 "cells": [
  {
   "cell_type": "markdown",
   "metadata": {},
   "source": [
    "# Chicago 1950\n",
    "\n",
    "prepare data for distortion calculation, test, compare"
   ]
  },
  {
   "cell_type": "code",
   "execution_count": 1,
   "metadata": {},
   "outputs": [],
   "source": [
    "import divergence_ekli_distortion as div\n",
    "import divergence_compare as com\n"
   ]
  },
  {
   "cell_type": "code",
   "execution_count": 3,
   "metadata": {},
   "outputs": [],
   "source": [
    "chicago=div.read_file('/Users/jvaes/Documents/chicago/data/fwdfwchicago1950censusbytract/chicago_1950_tracts/1950incomeCHI.shp')"
   ]
  },
  {
   "cell_type": "code",
   "execution_count": 4,
   "metadata": {},
   "outputs": [
    {
     "data": {
      "text/html": [
       "<div>\n",
       "<style scoped>\n",
       "    .dataframe tbody tr th:only-of-type {\n",
       "        vertical-align: middle;\n",
       "    }\n",
       "\n",
       "    .dataframe tbody tr th {\n",
       "        vertical-align: top;\n",
       "    }\n",
       "\n",
       "    .dataframe thead th {\n",
       "        text-align: right;\n",
       "    }\n",
       "</style>\n",
       "<table border=\"1\" class=\"dataframe\">\n",
       "  <thead>\n",
       "    <tr style=\"text-align: right;\">\n",
       "      <th></th>\n",
       "      <th>NHGISST</th>\n",
       "      <th>NHGISCTY</th>\n",
       "      <th>GISJOIN</th>\n",
       "      <th>GISJOIN2</th>\n",
       "      <th>SHAPE_AREA</th>\n",
       "      <th>SHAPE_LEN</th>\n",
       "      <th>nhgis0016_</th>\n",
       "      <th>nhgis001_1</th>\n",
       "      <th>nhgis001_2</th>\n",
       "      <th>nhgis001_3</th>\n",
       "      <th>...</th>\n",
       "      <th>B0E007</th>\n",
       "      <th>B0E008</th>\n",
       "      <th>B0E009</th>\n",
       "      <th>B0E010</th>\n",
       "      <th>B0E011</th>\n",
       "      <th>B0E012</th>\n",
       "      <th>B0E013</th>\n",
       "      <th>B0E014</th>\n",
       "      <th>B0E015</th>\n",
       "      <th>geometry</th>\n",
       "    </tr>\n",
       "  </thead>\n",
       "  <tbody>\n",
       "    <tr>\n",
       "      <th>0</th>\n",
       "      <td>170</td>\n",
       "      <td>0310</td>\n",
       "      <td>G17003100846</td>\n",
       "      <td>17003100846</td>\n",
       "      <td>2.614179e+06</td>\n",
       "      <td>7225.666141</td>\n",
       "      <td>1950</td>\n",
       "      <td>Illinois</td>\n",
       "      <td>17</td>\n",
       "      <td>Cook</td>\n",
       "      <td>...</td>\n",
       "      <td>415</td>\n",
       "      <td>360</td>\n",
       "      <td>340</td>\n",
       "      <td>255</td>\n",
       "      <td>415</td>\n",
       "      <td>285</td>\n",
       "      <td>300</td>\n",
       "      <td>140</td>\n",
       "      <td>420</td>\n",
       "      <td>POLYGON ((685476.7393863574 509025.6236453776,...</td>\n",
       "    </tr>\n",
       "    <tr>\n",
       "      <th>1</th>\n",
       "      <td>170</td>\n",
       "      <td>0310</td>\n",
       "      <td>G17003100867</td>\n",
       "      <td>17003100867</td>\n",
       "      <td>3.333835e+05</td>\n",
       "      <td>2470.031843</td>\n",
       "      <td>1950</td>\n",
       "      <td>Illinois</td>\n",
       "      <td>17</td>\n",
       "      <td>Cook</td>\n",
       "      <td>...</td>\n",
       "      <td>130</td>\n",
       "      <td>90</td>\n",
       "      <td>65</td>\n",
       "      <td>80</td>\n",
       "      <td>135</td>\n",
       "      <td>75</td>\n",
       "      <td>100</td>\n",
       "      <td>5</td>\n",
       "      <td>25</td>\n",
       "      <td>POLYGON ((687619.6943893731 508023.3009851112,...</td>\n",
       "    </tr>\n",
       "    <tr>\n",
       "      <th>2</th>\n",
       "      <td>170</td>\n",
       "      <td>0310</td>\n",
       "      <td>G17003100865</td>\n",
       "      <td>17003100865</td>\n",
       "      <td>6.513552e+05</td>\n",
       "      <td>4043.590886</td>\n",
       "      <td>1950</td>\n",
       "      <td>Illinois</td>\n",
       "      <td>17</td>\n",
       "      <td>Cook</td>\n",
       "      <td>...</td>\n",
       "      <td>215</td>\n",
       "      <td>155</td>\n",
       "      <td>130</td>\n",
       "      <td>85</td>\n",
       "      <td>125</td>\n",
       "      <td>65</td>\n",
       "      <td>95</td>\n",
       "      <td>30</td>\n",
       "      <td>50</td>\n",
       "      <td>POLYGON ((686059.3572701956 507863.6809653796,...</td>\n",
       "    </tr>\n",
       "    <tr>\n",
       "      <th>3</th>\n",
       "      <td>170</td>\n",
       "      <td>0310</td>\n",
       "      <td>G17003100863</td>\n",
       "      <td>17003100863</td>\n",
       "      <td>7.972477e+04</td>\n",
       "      <td>1188.376310</td>\n",
       "      <td>1950</td>\n",
       "      <td>Illinois</td>\n",
       "      <td>17</td>\n",
       "      <td>Cook</td>\n",
       "      <td>...</td>\n",
       "      <td>30</td>\n",
       "      <td>25</td>\n",
       "      <td>30</td>\n",
       "      <td>15</td>\n",
       "      <td>35</td>\n",
       "      <td>15</td>\n",
       "      <td>5</td>\n",
       "      <td>10</td>\n",
       "      <td>5</td>\n",
       "      <td>POLYGON ((687112.3453625296 508798.6291569208,...</td>\n",
       "    </tr>\n",
       "    <tr>\n",
       "      <th>4</th>\n",
       "      <td>170</td>\n",
       "      <td>0310</td>\n",
       "      <td>G17003100864</td>\n",
       "      <td>17003100864</td>\n",
       "      <td>8.086402e+04</td>\n",
       "      <td>1222.599607</td>\n",
       "      <td>1950</td>\n",
       "      <td>Illinois</td>\n",
       "      <td>17</td>\n",
       "      <td>Cook</td>\n",
       "      <td>...</td>\n",
       "      <td>90</td>\n",
       "      <td>30</td>\n",
       "      <td>20</td>\n",
       "      <td>20</td>\n",
       "      <td>35</td>\n",
       "      <td>35</td>\n",
       "      <td>30</td>\n",
       "      <td>10</td>\n",
       "      <td>20</td>\n",
       "      <td>POLYGON ((687515.20576993 508834.0681936329, 6...</td>\n",
       "    </tr>\n",
       "  </tbody>\n",
       "</table>\n",
       "<p>5 rows × 32 columns</p>\n",
       "</div>"
      ],
      "text/plain": [
       "  NHGISST NHGISCTY       GISJOIN     GISJOIN2    SHAPE_AREA    SHAPE_LEN  \\\n",
       "0     170     0310  G17003100846  17003100846  2.614179e+06  7225.666141   \n",
       "1     170     0310  G17003100867  17003100867  3.333835e+05  2470.031843   \n",
       "2     170     0310  G17003100865  17003100865  6.513552e+05  4043.590886   \n",
       "3     170     0310  G17003100863  17003100863  7.972477e+04  1188.376310   \n",
       "4     170     0310  G17003100864  17003100864  8.086402e+04  1222.599607   \n",
       "\n",
       "  nhgis0016_ nhgis001_1 nhgis001_2 nhgis001_3  ... B0E007 B0E008 B0E009  \\\n",
       "0       1950   Illinois         17       Cook  ...    415    360    340   \n",
       "1       1950   Illinois         17       Cook  ...    130     90     65   \n",
       "2       1950   Illinois         17       Cook  ...    215    155    130   \n",
       "3       1950   Illinois         17       Cook  ...     30     25     30   \n",
       "4       1950   Illinois         17       Cook  ...     90     30     20   \n",
       "\n",
       "  B0E010 B0E011 B0E012  B0E013  B0E014  B0E015  \\\n",
       "0    255    415    285     300     140     420   \n",
       "1     80    135     75     100       5      25   \n",
       "2     85    125     65      95      30      50   \n",
       "3     15     35     15       5      10       5   \n",
       "4     20     35     35      30      10      20   \n",
       "\n",
       "                                            geometry  \n",
       "0  POLYGON ((685476.7393863574 509025.6236453776,...  \n",
       "1  POLYGON ((687619.6943893731 508023.3009851112,...  \n",
       "2  POLYGON ((686059.3572701956 507863.6809653796,...  \n",
       "3  POLYGON ((687112.3453625296 508798.6291569208,...  \n",
       "4  POLYGON ((687515.20576993 508834.0681936329, 6...  \n",
       "\n",
       "[5 rows x 32 columns]"
      ]
     },
     "execution_count": 4,
     "metadata": {},
     "output_type": "execute_result"
    }
   ],
   "source": [
    "chicago.head()"
   ]
  },
  {
   "cell_type": "code",
   "execution_count": 5,
   "metadata": {},
   "outputs": [],
   "source": [
    "import numpy as np, random as rd"
   ]
  },
  {
   "cell_type": "code",
   "execution_count": 9,
   "metadata": {},
   "outputs": [
    {
     "name": "stdout",
     "output_type": "stream",
     "text": [
      "[1, 2, 4] [1, 2, 4, 6]\n"
     ]
    }
   ],
   "source": [
    "l=[1,2,4,6]\n",
    "g=l.copy()\n",
    "g.remove(6)\n",
    "print(g,l)"
   ]
  },
  {
   "cell_type": "code",
   "execution_count": 19,
   "metadata": {},
   "outputs": [],
   "source": [
    "data=div.pd.DataFrame(l,index=[i for i in range(4)])"
   ]
  },
  {
   "cell_type": "code",
   "execution_count": 20,
   "metadata": {},
   "outputs": [],
   "source": [
    "data['other']=div.pd.Series([1,1,1,1],index=[i for i in range(4)])"
   ]
  },
  {
   "cell_type": "code",
   "execution_count": 26,
   "metadata": {},
   "outputs": [],
   "source": [
    "data['sum']=data.sum(axis=1)"
   ]
  },
  {
   "cell_type": "code",
   "execution_count": 27,
   "metadata": {},
   "outputs": [
    {
     "data": {
      "text/html": [
       "<div>\n",
       "<style scoped>\n",
       "    .dataframe tbody tr th:only-of-type {\n",
       "        vertical-align: middle;\n",
       "    }\n",
       "\n",
       "    .dataframe tbody tr th {\n",
       "        vertical-align: top;\n",
       "    }\n",
       "\n",
       "    .dataframe thead th {\n",
       "        text-align: right;\n",
       "    }\n",
       "</style>\n",
       "<table border=\"1\" class=\"dataframe\">\n",
       "  <thead>\n",
       "    <tr style=\"text-align: right;\">\n",
       "      <th></th>\n",
       "      <th>0</th>\n",
       "      <th>other</th>\n",
       "      <th>sum</th>\n",
       "    </tr>\n",
       "  </thead>\n",
       "  <tbody>\n",
       "    <tr>\n",
       "      <th>0</th>\n",
       "      <td>1</td>\n",
       "      <td>1</td>\n",
       "      <td>2</td>\n",
       "    </tr>\n",
       "    <tr>\n",
       "      <th>1</th>\n",
       "      <td>2</td>\n",
       "      <td>1</td>\n",
       "      <td>3</td>\n",
       "    </tr>\n",
       "    <tr>\n",
       "      <th>2</th>\n",
       "      <td>4</td>\n",
       "      <td>1</td>\n",
       "      <td>5</td>\n",
       "    </tr>\n",
       "    <tr>\n",
       "      <th>3</th>\n",
       "      <td>6</td>\n",
       "      <td>1</td>\n",
       "      <td>7</td>\n",
       "    </tr>\n",
       "  </tbody>\n",
       "</table>\n",
       "</div>"
      ],
      "text/plain": [
       "   0  other  sum\n",
       "0  1      1    2\n",
       "1  2      1    3\n",
       "2  4      1    5\n",
       "3  6      1    7"
      ]
     },
     "execution_count": 27,
     "metadata": {},
     "output_type": "execute_result"
    }
   ],
   "source": [
    "data"
   ]
  },
  {
   "cell_type": "code",
   "execution_count": null,
   "metadata": {},
   "outputs": [],
   "source": []
  }
 ],
 "metadata": {
  "kernelspec": {
   "display_name": "Python 3",
   "language": "python",
   "name": "python3"
  },
  "language_info": {
   "codemirror_mode": {
    "name": "ipython",
    "version": 3
   },
   "file_extension": ".py",
   "mimetype": "text/x-python",
   "name": "python",
   "nbconvert_exporter": "python",
   "pygments_lexer": "ipython3",
   "version": "3.7.4"
  }
 },
 "nbformat": 4,
 "nbformat_minor": 2
}
