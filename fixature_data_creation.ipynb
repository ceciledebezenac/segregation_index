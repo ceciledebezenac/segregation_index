{
 "cells": [
  {
   "cell_type": "markdown",
   "metadata": {},
   "source": [
    "This notebook enables the creation of fixatures for the test, to compare results. "
   ]
  },
  {
   "cell_type": "code",
   "execution_count": 35,
   "metadata": {},
   "outputs": [],
   "source": [
    "from divergence import segregation_distortion as seg\n",
    "from random_grid import random_grid as rdg\n",
    "import geopandas as gdp\n",
    "import pandas\n",
    "import pickle as pck"
   ]
  },
  {
   "cell_type": "code",
   "execution_count": 36,
   "metadata": {},
   "outputs": [],
   "source": [
    "#create the random data for the tests.\n",
    "random_data=rdg.RandomGrid(5,[2500,2500])"
   ]
  },
  {
   "cell_type": "code",
   "execution_count": 37,
   "metadata": {},
   "outputs": [],
   "source": [
    "#fill in the cells with population.\n",
    "random_data.populate()"
   ]
  },
  {
   "cell_type": "code",
   "execution_count": 38,
   "metadata": {},
   "outputs": [],
   "source": [
    "#transform the random dataframe into a geopandas.\n",
    "georandom=rdg.GeoGrid(random_data.data,'PLongitude','PLatitude')"
   ]
  },
  {
   "cell_type": "code",
   "execution_count": 39,
   "metadata": {},
   "outputs": [
    {
     "name": "stdout",
     "output_type": "stream",
     "text": [
      "0 spatial units have been left out because of null values over all groups. Check your data or continue.\n"
     ]
    }
   ],
   "source": [
    "#initialise the Divergence class\n",
    "distortion_random=seg.DivergenceProfiles(georandom.geodata,['Population_0','Population_1'])"
   ]
  },
  {
   "cell_type": "markdown",
   "metadata": {},
   "source": [
    "Create the neighbourhood structure and compute the distortion indices for the cells"
   ]
  },
  {
   "cell_type": "code",
   "execution_count": 40,
   "metadata": {},
   "outputs": [],
   "source": [
    "distortion_random.set_neighbourhood()"
   ]
  },
  {
   "cell_type": "code",
   "execution_count": 41,
   "metadata": {},
   "outputs": [],
   "source": [
    "distortion_random.set_profiles()"
   ]
  },
  {
   "cell_type": "code",
   "execution_count": 42,
   "metadata": {},
   "outputs": [],
   "source": [
    "distortion_random.update_data()"
   ]
  },
  {
   "cell_type": "markdown",
   "metadata": {},
   "source": [
    "Save the data that has been modified to get access later on during the tests"
   ]
  },
  {
   "cell_type": "code",
   "execution_count": 43,
   "metadata": {},
   "outputs": [],
   "source": [
    "georandom.geodata.to_file('fixatures/fixature_random_data.shp')"
   ]
  },
  {
   "cell_type": "code",
   "execution_count": 44,
   "metadata": {},
   "outputs": [],
   "source": [
    "#use in built method to save updated data.\n",
    "distortion_random.save_dataframe('fixatures/fixature_random_distortion')"
   ]
  },
  {
   "cell_type": "code",
   "execution_count": 45,
   "metadata": {},
   "outputs": [],
   "source": [
    "#use pickle to save the python object.\n",
    "f=open('fixatures/fixature_python_object','wb')\n",
    "pck.dump(distortion_random,f)\n",
    "#close the opened file\n",
    "f.close()"
   ]
  },
  {
   "cell_type": "code",
   "execution_count": null,
   "metadata": {},
   "outputs": [],
   "source": []
  }
 ],
 "metadata": {
  "kernelspec": {
   "display_name": "Python 3",
   "language": "python",
   "name": "python3"
  },
  "language_info": {
   "codemirror_mode": {
    "name": "ipython",
    "version": 3
   },
   "file_extension": ".py",
   "mimetype": "text/x-python",
   "name": "python",
   "nbconvert_exporter": "python",
   "pygments_lexer": "ipython3",
   "version": "3.7.3"
  }
 },
 "nbformat": 4,
 "nbformat_minor": 2
}
